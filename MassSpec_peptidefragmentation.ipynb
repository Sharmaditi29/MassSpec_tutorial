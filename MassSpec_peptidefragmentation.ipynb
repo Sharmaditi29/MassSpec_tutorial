{
  "nbformat": 4,
  "nbformat_minor": 0,
  "metadata": {
    "colab": {
      "provenance": []
    },
    "kernelspec": {
      "name": "python3",
      "display_name": "Python 3"
    },
    "language_info": {
      "name": "python"
    }
  },
  "cells": [
    {
      "cell_type": "markdown",
      "source": [
        "Introduction to Peptide Fragmentation\n",
        "\n",
        "In mass spectrometry, peptides are often fragmented to generate smaller pieces, which can be analyzed to deduce the peptide's sequence. The most common types of fragments analyzed are y- and b-ions. Understanding the monoisotopic mass of these fragments is crucial for accurate mass spectrometry analysis."
      ],
      "metadata": {
        "id": "5B05R2y5u1H6"
      }
    },
    {
      "cell_type": "code",
      "source": [
        "#The aa_mass dictionary mentioned below contains monoisotopic mass values for the 20 standard amino acids which makes up the proteins.\n",
        "#Each key in the dictionary represents a one-letter code for an amino acid, and each value is the corresponding monoisotopic mass in daltons (or unified atomic mass units).\n",
        "\n",
        "aa_mass = {\n",
        "    'A': 71.0371137,\n",
        "    'R': 156.1011110,\n",
        "    'N': 114.0429274,\n",
        "    'D': 115.0269430,\n",
        "    'C': 103.0091847,\n",
        "    'E': 129.0425930,\n",
        "    'Q': 128.0585775,\n",
        "    'G': 57.0214637,\n",
        "    'H': 137.0589118,\n",
        "    'I': 113.0840639,\n",
        "    'L': 113.0840639,\n",
        "    'K': 128.0949630,\n",
        "    'M': 131.0404849,\n",
        "    'F': 147.068414,\n",
        "    'P': 97.0527638,\n",
        "    'S': 87.0320284,\n",
        "    'T': 101.0476784,\n",
        "    'W': 186.0793129,\n",
        "    'Y': 163.0633285,\n",
        "    'V': 99.068414\n",
        "}\n"
      ],
      "metadata": {
        "id": "b-IOOi2_u7fN"
      },
      "execution_count": 21,
      "outputs": []
    },
    {
      "cell_type": "code",
      "source": [
        "def getFragmentMasses(sequence):\n",
        "\n",
        "    n = len(sequence)\n",
        "    # len determines length of the sequence\n",
        "    array_holding_mass_values = []\n",
        "    array_holding_b_ion_mass_values = []\n",
        "\n",
        "    for aaIndex in range(n):\n",
        "        #aaIndex takes values from 0 to n-1 as using range\n",
        "        aa = sequence[aaIndex]\n",
        "\n",
        "        #assigning aa the value in aaIndex which is the input amino acid\n",
        "        aa_mass_value = aa_mass[aa]\n",
        "        #aa represents amino acid from input sequence, value associated is the mass of amino acid\n",
        "        array_holding_mass_values.append(aa_mass_value)\n",
        "        #aa mass value stored in array holding masses\n",
        "        total_mass_of_array = sum(array_holding_mass_values)\n",
        "        #adding residual mass of input sequence\n",
        "        b_mass = (total_mass_of_array + 1.0079)\n",
        "        #calculating b ions\n",
        "        b_mass_rounded = round(b_mass, 7)\n",
        "        array_holding_b_ion_mass_values.append(b_mass_rounded)\n",
        "\n",
        "      # print(array_holding_b_ion_mass_values)\n",
        "        array_holding_mass_values = []\n",
        "        array_holding_y_ion_mass_values = []\n",
        "        for aa in sequence[::-1]:\n",
        "          #reversing the sequence, y ion series starts from C-terminal\n",
        "          aa_mass_value = aa_mass[aa]\n",
        "          array_holding_mass_values.append(aa_mass_value)\n",
        "          total_mass_of_array = sum(array_holding_mass_values)\n",
        "          y_mass = (total_mass_of_array + 18.01528 + 1.0079)\n",
        "          #calculating y ions\n",
        "          y_mass_rounded = round(y_mass, 7)\n",
        "          array_holding_y_ion_mass_values.append(y_mass_rounded)\n",
        "        return array_holding_b_ion_mass_values, array_holding_y_ion_mass_values\n"
      ],
      "metadata": {
        "id": "j4fw2a1Gvi03"
      },
      "execution_count": 22,
      "outputs": []
    },
    {
      "cell_type": "code",
      "source": [
        "#Call the function getFragmentMasses to find out monoisotopic masses of each amino acid in the sequence\n",
        "frag_masses = getFragmentMasses(\"MAINHTGEK\")\n",
        "print(frag_masses)\n"
      ],
      "metadata": {
        "colab": {
          "base_uri": "https://localhost:8080/"
        },
        "id": "shV14_Dbv0Zl",
        "outputId": "a7ea4c92-5617-4f6e-e95a-c424ae0e6ac6"
      },
      "execution_count": 23,
      "outputs": [
        {
          "output_type": "stream",
          "name": "stdout",
          "text": [
            "([132.0483849], [147.118143, 276.160736, 333.1821997, 434.2298781, 571.2887899, 685.3317173, 798.4157812, 869.4528949, 1000.4933798])\n"
          ]
        }
      ]
    }
  ]
}