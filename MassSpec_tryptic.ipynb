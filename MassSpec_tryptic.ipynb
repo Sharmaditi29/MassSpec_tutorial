{
  "nbformat": 4,
  "nbformat_minor": 0,
  "metadata": {
    "colab": {
      "provenance": []
    },
    "kernelspec": {
      "name": "python3",
      "display_name": "Python 3"
    },
    "language_info": {
      "name": "python"
    }
  },
  "cells": [
    {
      "cell_type": "markdown",
      "source": [],
      "metadata": {
        "id": "qwpzwKu6HpAf"
      }
    },
    {
      "cell_type": "markdown",
      "source": [
        "Welcome to the tutorial on tryptic peptides and their role in mass spectrometry! In this session, we’ll explore how enzymes like trypsin can be used to break down proteins into peptides, a crucial step in mass spectrometry analysis. Understanding these peptides helps us identify the proteins and understand their functions in biological systems.\n"
      ],
      "metadata": {
        "id": "6B3GrvHYIghT"
      }
    },
    {
      "cell_type": "markdown",
      "source": [
        "Let’s try it together! Download the protein sequence P00533-1 from UniProt.org, and let's use our script to find out what peptides we can expect from a trypsin digest. How many peptides does the tool generate? What does this tell us about the protein?"
      ],
      "metadata": {
        "id": "dKzv04uSJRWS"
      }
    },
    {
      "cell_type": "code",
      "source": [
        "#Find count of tryptic peptides in protein P00533-1"
      ],
      "metadata": {
        "id": "0wEB_DkPJXMw"
      },
      "execution_count": null,
      "outputs": []
    },
    {
      "cell_type": "code",
      "source": [
        "#protein sequence is read from a FASTA file\n",
        "fasta = open('/content/P00533-1.fasta', 'r')"
      ],
      "metadata": {
        "id": "IGg0d3Q1KdsN"
      },
      "execution_count": null,
      "outputs": []
    },
    {
      "cell_type": "code",
      "source": [
        "#removes the first line of the FASTA file (header) and stores the sequence in variable prot_seq\n",
        "prot_seq = fasta.readlines()[1:]"
      ],
      "metadata": {
        "id": "AoBi-5LQK3Q5"
      },
      "execution_count": null,
      "outputs": []
    },
    {
      "cell_type": "code",
      "source": [
        "#concatenation of the lines and stored in variable proteinSequence\n",
        "proteinSequence = ''.join(prot_seq)"
      ],
      "metadata": {
        "id": "KN-IgFM9LHV5"
      },
      "execution_count": null,
      "outputs": []
    },
    {
      "cell_type": "code",
      "source": [
        "#replaces all newline characters from variable protein sequence\n",
        "proteinSequence = proteinSequence.replace(\"\\n\",\"\")"
      ],
      "metadata": {
        "id": "06uZ3s6OLNOp"
      },
      "execution_count": null,
      "outputs": []
    },
    {
      "cell_type": "code",
      "source": [
        "#Function to obtain tryptic peptides\n",
        "def getTrypticPeptides(proteinSequence):\n",
        "    peptides = []\n",
        "    #store tryptic peptides\n",
        "    last_broken_at = 0\n",
        "    #track starting position of next peptide\n",
        "    for aa_position in range(0, len(proteinSequence) - 1):\n",
        "        amino_acid = proteinSequence[aa_position]\n",
        "        #aa_position is index, iterates over elements of proteinSequence (amino acids)\n",
        "        next_amino_acid = proteinSequence[aa_position + 1]\n",
        "        if (amino_acid == \"K\" or amino_acid == \"R\") and next_amino_acid != \"P\":\n",
        "            peptide = proteinSequence[last_broken_at:aa_position + 1]\n",
        "            peptides.append(peptide)\n",
        "            last_broken_at = aa_position + 1\n",
        "\n",
        "    return peptides\n"
      ],
      "metadata": {
        "id": "RggatHbNLUoX"
      },
      "execution_count": null,
      "outputs": []
    },
    {
      "cell_type": "code",
      "source": [
        "# Call the function\n",
        "trypticpeptides = getTrypticPeptides(proteinSequence)"
      ],
      "metadata": {
        "id": "AHEArHm9LcJI"
      },
      "execution_count": null,
      "outputs": []
    },
    {
      "cell_type": "code",
      "source": [
        "# print the obtained peptides\n",
        "print(trypticpeptides)\n",
        "print(len(trypticpeptides))\n"
      ],
      "metadata": {
        "colab": {
          "base_uri": "https://localhost:8080/"
        },
        "id": "QGuvDcxIL6ab",
        "outputId": "f0bd72d6-4bac-4c1a-d27f-53b86b8594a9"
      },
      "execution_count": null,
      "outputs": [
        {
          "output_type": "stream",
          "name": "stdout",
          "text": [
            "['MFNNCEVVLGNLEITYVQR', 'NYDLSFLK', 'TIQEVAGYVLIALNTVER', 'IPLENLQIIR', 'GNMYYENSYALAVLSNYDANK', 'TGLK', 'ELPMR', 'NLQEILHGAVR', 'FSNNPALCNVESIQWR', 'DIVSSDFLSNMSMDFQNHLGSCQK', 'CDPSCPNGSCWGAGEENCQK', 'LTK', 'IICAQQCSGR', 'CR', 'GK', 'SPSDCCHNQCAAGCTGPR', 'ESDCLVCR', 'K', 'FR', 'DEATCK', 'DTCPPLMLYNPTTYQMDVNPEGK', 'YSFGATCVK', 'K', 'CPR', 'NYVVTDHGSCVR', 'ACGADSYEMEEDGVR', 'K', 'CK', 'K', 'CEGPCR', 'K', 'VCNGIGIGEFK', 'DSLSINATNIK', 'HFK', 'NCTSISGDLHILPVAFR', 'GDSFTHTPPLDPQELDILK', 'TVK', 'EITGFLLIQAWPENR', 'TDLHAFENLEIIR', 'GR', 'TK', 'QHGQFSLAVVSLNITSLGLR', 'SLK', 'EISDGDVIISGNK', 'NLCYANTINWK', 'K', 'LFGTSGQK', 'TK', 'IISNR', 'GENSCK', 'ATGQVCHALCSPEGCWGPEPR', 'DCVSCR', 'NVSR', 'GR', 'ECVDK', 'CNLLEGEPR', 'EFVENSECIQCHPECLPQAMNITCTGR', 'GPDNCIQCAHYIDGPHCVK', 'TCPAGVMGENNTLVWK', 'YADAGHVCHLCHPNCTYGCTGPGLEGCPTNGPK', 'IPSIATGMVGALLLLLVVALGIGLFMR', 'R', 'R', 'HIVR', 'K', 'R', 'TLR', 'R', 'LLQER', 'ELVEPLTPSGEAPNQALLR', 'ILK', 'ETEFK', 'K', 'IK', 'VLGSGAFGTVYK', 'GLWIPEGEK', 'VK', 'IPVAIK', 'ELR', 'EATSPK', 'ANK', 'EILDEAYVMASVDNPHVCR', 'LLGICLTSTVQLITQLMPFGCLLDYVR', 'EHK', 'DNIGSQYLLNWCVQIAK', 'GMNYLEDR', 'R', 'LVHR', 'DLAAR', 'NVLVK', 'TPQHVK', 'ITDFGLAK', 'LLGAEEK', 'EYHAEGGK', 'VPIK', 'WMALESILHR', 'IYTHQSDVWSYGVTVWELMTFGSKPYDGIPASEISSILEK', 'GER', 'LPQPPICTIDVYMIMVK', 'CWMIDADSRPK', 'FR', 'ELIIEFSK', 'MAR', 'DPQR', 'YLVIQGDER', 'MHLPSPTDSNFYR', 'ALMDEEDMDDVVDADEYLIPQQGFFSSPSTSR', 'TPLLSSLSATSNNSTVACIDR', 'NGLQSCPIK', 'EDSFLQR', 'YSSDPTGALTEDSIDDTFLPVPEYINQSVPK', 'RPAGSVQNPVYHNQPLNPAPSR', 'DPHYQDPHSTAVGNPEYLNTVQPTCVNSTFDSPAHWAQK', 'GSHQISLDNPDYQQDFFPK', 'EAKPNGIFK', 'GSTAENAEYLR']\n",
            "116\n"
          ]
        }
      ]
    }
  ]
}